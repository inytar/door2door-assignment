{
 "cells": [
  {
   "cell_type": "code",
   "execution_count": 44,
   "metadata": {
    "collapsed": false
   },
   "outputs": [
    {
     "name": "stdout",
     "output_type": "stream",
     "text": [
      "total data points: 380\n",
      "{'init': 'epsg:4326'}\n"
     ]
    }
   ],
   "source": [
    "import geopandas as gpd\n",
    "import pandas as pd\n",
    "\n",
    "data = gpd.read_file('./activity_points.geojson')\n",
    "data.set_index('id', inplace=True)\n",
    "data.timestamp = pd.to_datetime(data.timestamp)\n",
    "data.created_at = pd.to_datetime(data.created_at)\n",
    "print('total data points:', len(data))\n",
    "print(data.crs)"
   ]
  },
  {
   "cell_type": "code",
   "execution_count": 49,
   "metadata": {
    "collapsed": false
   },
   "outputs": [
    {
     "name": "stdout",
     "output_type": "stream",
     "text": [
      "Min timestamp: 2015-11-11 09:03:01 Max timestamp: 2015-12-14 22:57:35\n",
      "Min created_at: 2015-11-11 06:03:12 Max created_at: 2015-12-14 19:57:38\n",
      "created_at larger than timestamp: 11\n"
     ]
    },
    {
     "data": {
      "text/plain": [
       "id\n",
       "4       True\n",
       "9       True\n",
       "10     False\n",
       "11     False\n",
       "13     False\n",
       "14     False\n",
       "15     False\n",
       "18     False\n",
       "20     False\n",
       "21     False\n",
       "24     False\n",
       "25     False\n",
       "27     False\n",
       "28     False\n",
       "29     False\n",
       "30     False\n",
       "31     False\n",
       "32     False\n",
       "34     False\n",
       "35     False\n",
       "37     False\n",
       "38     False\n",
       "40     False\n",
       "41     False\n",
       "42     False\n",
       "43     False\n",
       "44     False\n",
       "45     False\n",
       "47     False\n",
       "49     False\n",
       "       ...  \n",
       "707    False\n",
       "708    False\n",
       "711    False\n",
       "714    False\n",
       "715    False\n",
       "716    False\n",
       "717    False\n",
       "718    False\n",
       "719    False\n",
       "723    False\n",
       "724    False\n",
       "725    False\n",
       "727    False\n",
       "729    False\n",
       "732    False\n",
       "733    False\n",
       "734    False\n",
       "738    False\n",
       "742    False\n",
       "746    False\n",
       "760    False\n",
       "763    False\n",
       "764    False\n",
       "765    False\n",
       "766    False\n",
       "768    False\n",
       "770    False\n",
       "771    False\n",
       "772    False\n",
       "773    False\n",
       "dtype: bool"
      ]
     },
     "execution_count": 49,
     "metadata": {},
     "output_type": "execute_result"
    }
   ],
   "source": [
    "# Looking at date based properties.\n",
    "print('Min timestamp:', data.timestamp.min(), 'Max timestamp:', data.timestamp.max())\n",
    "print('Min created_at:', data.created_at.min(), 'Max created_at:', data.created_at.max())\n",
    "# created_at seems earlier than timestamp, test this, and if True we assume this is the time of the coördinate.\n",
    "print('created_at larger than timestamp:', len(data[data.created_at > data.timestamp]))\n",
    "# Eleven cases where created_at is latter than timestamp of a total of 380 points. I will ignore this,\n",
    "# and assume created_at is the time of the coórdinate.\n",
    "\n",
    "# Are points wit similar times near each other? How many points created at a max 15 min from each other are a distance of decimal 6.\n",
    "data.geometry.geom_almost_equals(data.geometry[4])"
   ]
  }
 ],
 "metadata": {
  "kernelspec": {
   "display_name": "Python 3",
   "language": "python",
   "name": "python3"
  },
  "language_info": {
   "codemirror_mode": {
    "name": "ipython",
    "version": 3
   },
   "file_extension": ".py",
   "mimetype": "text/x-python",
   "name": "python",
   "nbconvert_exporter": "python",
   "pygments_lexer": "ipython3",
   "version": "3.5.3"
  }
 },
 "nbformat": 4,
 "nbformat_minor": 2
}
